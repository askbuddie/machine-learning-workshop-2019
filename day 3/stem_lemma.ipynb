{
 "cells": [
  {
   "cell_type": "code",
   "execution_count": null,
   "metadata": {},
   "outputs": [],
   "source": [
    "nltk.download()"
   ]
  },
  {
   "cell_type": "code",
   "execution_count": 2,
   "metadata": {},
   "outputs": [
    {
     "name": "stdout",
     "output_type": "stream",
     "text": [
      "wait\n",
      "wait\n",
      "wait\n",
      "wait\n"
     ]
    }
   ],
   "source": [
    "from nltk.stem import PorterStemmer\n",
    "from nltk.tokenize import sent_tokenize, word_tokenize\n",
    "import nltk\n",
    "from nltk.stem import WordNetLemmatizer\n",
    "\n",
    "e_words= [\"wait\", \"waiting\", \"waited\", \"waits\"]\n",
    "ps =PorterStemmer()\n",
    "for w in e_words:\n",
    "    rootWord=ps.stem(w)\n",
    "    print(rootWord)"
   ]
  },
  {
   "cell_type": "code",
   "execution_count": 3,
   "metadata": {},
   "outputs": [
    {
     "name": "stdout",
     "output_type": "stream",
     "text": [
      "Stemming for studies is studi\n",
      "Stemming for studying is studi\n",
      "Stemming for cries is cri\n",
      "Stemming for cry is cri\n",
      "----------------------\n",
      "Lemma for studies is study\n",
      "Lemma for studying is studying\n",
      "Lemma for cries is cry\n",
      "Lemma for cry is cry\n"
     ]
    }
   ],
   "source": [
    "porter_stemmer  = PorterStemmer()\n",
    "text = \"studies studying cries cry\"\n",
    "tokenization = nltk.word_tokenize(text)\n",
    "for w in tokenization:\n",
    "    print(\"Stemming for {} is {}\".format(w,porter_stemmer.stem(w)))  \n",
    "print(\"----------------------\")    \n",
    "text = \"studies studying cries cry\"\n",
    "wordnet_lemmatizer = WordNetLemmatizer()\n",
    "tokenization = nltk.word_tokenize(text)\n",
    "for w in tokenization:\n",
    "    print(\"Lemma for {} is {}\".format(w, wordnet_lemmatizer.lemmatize(w)))"
   ]
  },
  {
   "cell_type": "code",
   "execution_count": null,
   "metadata": {},
   "outputs": [],
   "source": []
  },
  {
   "cell_type": "code",
   "execution_count": null,
   "metadata": {},
   "outputs": [
    {
     "name": "stdout",
     "output_type": "stream",
     "text": [
      "showing info https://raw.githubusercontent.com/nltk/nltk_data/gh-pages/index.xml\n"
     ]
    }
   ],
   "source": [
    "nltk.download()"
   ]
  },
  {
   "cell_type": "code",
   "execution_count": 24,
   "metadata": {},
   "outputs": [
    {
     "name": "stdout",
     "output_type": "stream",
     "text": [
      "{'against', 'yours', \"shan't\", 'does', 'why', 'them', 'be', 'been', \"wasn't\", 'itself', 'our', 'how', 'mightn', 'the', \"needn't\", 'because', 'himself', 'those', 'doing', 'own', 'me', \"you'll\", \"mustn't\", 'when', 'ourselves', 'whom', 'where', 'with', \"that'll\", 'it', 'only', 'down', 'more', 'ain', 'no', 'into', \"didn't\", 'did', 'themselves', 'which', 'so', 'won', \"she's\", 'being', 'wasn', 'at', 'its', 'are', \"hadn't\", 'hadn', \"shouldn't\", 'can', 'these', 'i', \"isn't\", 'during', 'nor', 'wouldn', 'now', 'd', 'above', 'mustn', 'was', 'y', 'hers', 'ma', 'once', \"it's\", 's', 'had', 'here', 'll', 'will', 'then', 'their', 'has', \"doesn't\", 'by', 'before', 'off', 'and', 'your', 'other', 'after', 'theirs', 'too', 'further', 'don', 'a', 'do', 'over', 'few', 'some', 'until', \"haven't\", 'hasn', 'o', 'herself', 'or', 'aren', 'about', 'm', 'his', 'my', \"you'd\", 'an', 'on', 've', 'not', 'ours', 'what', 'she', 'were', 'between', 'in', \"you're\", 'of', 'have', 'same', 'if', 'most', 'from', 'such', 'shouldn', 'am', \"couldn't\", 'haven', 't', 'for', 'her', 'all', 'any', \"don't\", \"aren't\", 'who', 'yourselves', 'while', 'again', 'each', 'very', 'shan', 'having', 'than', 'to', \"you've\", 'we', 'he', 'that', 'yourself', 'there', 'should', \"hasn't\", 'myself', 're', 'below', 'they', \"wouldn't\", 'up', 'this', \"won't\", 'but', \"should've\", 'both', \"weren't\", \"mightn't\", 'as', 'out', 'couldn', 'is', 'needn', 'through', 'under', 'weren', 'doesn', 'isn', 'just', 'you', 'didn', 'him'}\n"
     ]
    }
   ],
   "source": [
    "from nltk.corpus import stopwords\n",
    "stop = set(stopwords.words('english')) \n",
    "print(stop)"
   ]
  },
  {
   "cell_type": "code",
   "execution_count": null,
   "metadata": {},
   "outputs": [],
   "source": []
  }
 ],
 "metadata": {
  "kernelspec": {
   "display_name": "Python 3",
   "language": "python",
   "name": "python3"
  },
  "language_info": {
   "codemirror_mode": {
    "name": "ipython",
    "version": 3
   },
   "file_extension": ".py",
   "mimetype": "text/x-python",
   "name": "python",
   "nbconvert_exporter": "python",
   "pygments_lexer": "ipython3",
   "version": "3.6.8"
  }
 },
 "nbformat": 4,
 "nbformat_minor": 2
}
